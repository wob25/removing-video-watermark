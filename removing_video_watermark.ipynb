{
  "cells": [
    {
      "cell_type": "markdown",
      "metadata": {
        "id": "view-in-github",
        "colab_type": "text"
      },
      "source": [
        "<a href=\"https://colab.research.google.com/github/wob25/removing-video-watermark/blob/main/removing_video_watermark.ipynb\" target=\"_parent\"><img src=\"https://colab.research.google.com/assets/colab-badge.svg\" alt=\"Open In Colab\"/></a>"
      ]
    },
    {
      "cell_type": "code",
      "execution_count": null,
      "metadata": {
        "id": "UrlP7dd1qlTK"
      },
      "outputs": [],
      "source": [
        "# 1. 克隆你指定的项目仓库\n",
        "!git clone https://github.com/YaoFANGUK/video-subtitle-remover.git\n",
        "\n",
        "# 2. 进入项目目录\n",
        "%cd video-subtitle-remover\n",
        "\n",
        "# 3. 安装核心依赖 PaddlePaddle (GPU版本) 和其他库\n",
        "print(\"⏳ 开始安装依赖，可能需要几分钟时间...\")\n",
        "!pip install paddlepaddle-gpu -i https://pypi.tuna.tsinghua.edu.cn/simple\n",
        "!pip install -r requirements.txt -i https://pypi.tuna.tsinghua.edu.cn/simple\n",
        "\n",
        "print(\"✅ 环境设置和依赖安装完成！\")"
      ]
    },
    {
      "cell_type": "code",
      "execution_count": null,
      "metadata": {
        "id": "qz7rjwBVse-b"
      },
      "outputs": [],
      "source": [
        "from google.colab import files\n",
        "import os\n",
        "\n",
        "# --- 从本地电脑上传 (适用于小文件) ---\n",
        "print(\"请选择你的视频文件上传...\")\n",
        "uploaded = files.upload()\n",
        "video_path = list(uploaded.keys())[0]\n",
        "print(f\"\\n✅ 视频 '{video_path}' 上传成功！\")"
      ]
    },
    {
      "cell_type": "code",
      "execution_count": null,
      "metadata": {
        "id": "EZ761fqVvo5V"
      },
      "outputs": [],
      "source": [
        "import cv2\n",
        "import matplotlib.pyplot as plt\n",
        "\n",
        "cap = cv2.VideoCapture(video_path)\n",
        "\n",
        "# 设置读取第 50 帧【从 0 开始计数，水印看不清楚时可调整这里】\n",
        "cap.set(cv2.CAP_PROP_POS_FRAMES, 50)\n",
        "\n",
        "ret, frame = cap.read()\n",
        "cap.release()\n",
        "\n",
        "if not ret:\n",
        "    print(\"❌ 无法读取第 50 帧，请检查视频长度是否足够\")\n",
        "else:\n",
        "    frame_rgb = cv2.cvtColor(frame, cv2.COLOR_BGR2RGB)\n",
        "    coords = []\n",
        "\n",
        "    def onclick(event):\n",
        "        x, y = int(event.xdata), int(event.ydata)\n",
        "        coords.append((x, y))\n",
        "        print(f\"📍 你点击的位置是: ({x}, {y})\")\n",
        "        if len(coords) == 2:\n",
        "            print(f\"\\n✅ 得到矩形区域坐标：左上角 {coords[0]}，右下角 {coords[1]}\")\n",
        "\n",
        "    fig, ax = plt.subplots(figsize=(12, 8))\n",
        "    ax.imshow(frame_rgb)\n",
        "    cid = fig.canvas.mpl_connect('button_press_event', onclick)\n",
        "    plt.title(\"💡 请点击图像左上角和右下角来标注水印区域\")\n",
        "    plt.show()\n"
      ]
    },
    {
      "cell_type": "code",
      "execution_count": null,
      "metadata": {
        "id": "xTWSBHLqw9E3"
      },
      "outputs": [],
      "source": [
        "# --- ‼️ 请在这里填入你刚刚记录的坐标 ---\n",
        "\n",
        "# 区域左上角的坐标 (对应 xmin, ymin)\n",
        "xmin = 270  # 替换成你记录的左上角 x 坐标\n",
        "ymin = 10  # 替换成你记录的左上角 y 坐标\n",
        "\n",
        "# 区域右下角的坐标 (对应 xmax, ymax)\n",
        "xmax = 490 # 替换成你记录的右下角 x 坐标\n",
        "ymax = 65 # 替换成你记录的右下角 y 坐标\n",
        "\n",
        "# 组合成程序需要的格式：(ymin, ymax, xmin, xmax)\n",
        "subtitle_area = (ymin, ymax, xmin, xmax)\n",
        "\n",
        "print(f\"✅ 成功设置去除区域，坐标为 (ymin, ymax, xmin, xmax): {subtitle_area}\")"
      ]
    },
    {
      "cell_type": "code",
      "execution_count": null,
      "metadata": {
        "id": "6XDlKIoHzcUX"
      },
      "outputs": [],
      "source": [
        "import os\n",
        "import sys\n",
        "\n",
        "# 将项目根目录添加到系统路径，这样才能正确导入 backend/main.py\n",
        "sys.path.insert(0, os.path.abspath('.'))\n",
        "\n",
        "# 从后端模块导入核心的 SubtitleRemover 类\n",
        "from backend.main import SubtitleRemover\n",
        "\n",
        "print(\"🚀 开始处理视频，根据视频时长和GPU性能，这可能需要一些时间...\")\n",
        "print(f\"输入视频: {video_path}\")\n",
        "print(f\"处理区域: {subtitle_area}\")\n",
        "\n",
        "# 1. 创建 SubtitleRemover 实例\n",
        "#    - 第一个参数是视频路径\n",
        "#    - 第二个参数是我们刚才定义好的区域坐标\n",
        "#    - 第三个参数 preview 设置为 False，因为在 Colab 中无法实时预览\n",
        "remover = SubtitleRemover(video_path, subtitle_area, False)\n",
        "\n",
        "# 2. 运行处理程序\n",
        "remover.run()\n",
        "\n",
        "print(\"\\n\\n✅ 视频处理任务完成！\")"
      ]
    }
  ],
  "metadata": {
    "accelerator": "GPU",
    "colab": {
      "gpuType": "T4",
      "provenance": [],
      "authorship_tag": "ABX9TyOR4/7WXjPY2nztoScM3MuM",
      "include_colab_link": true
    },
    "kernelspec": {
      "display_name": "Python 3",
      "name": "python3"
    },
    "language_info": {
      "name": "python"
    }
  },
  "nbformat": 4,
  "nbformat_minor": 0
}